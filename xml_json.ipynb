{
 "cells": [
  {
   "cell_type": "code",
   "execution_count": 1,
   "metadata": {},
   "outputs": [],
   "source": [
    "import re\n",
    "import pandas as pd\n",
    "with open(\"australian-sport-thesaurus-student.xml\", 'r', encoding='utf-8') as f:\n",
    "    data = f.read() # open the xml file"
   ]
  },
  {
   "cell_type": "code",
   "execution_count": 2,
   "metadata": {},
   "outputs": [],
   "source": [
    "term = re.compile('(?<=<Term>)([\\s\\S]*?)(?=</RelatedTerms>\\s*</Term>)')\n",
    "allTerms= term.findall(data) #extract each term"
   ]
  },
  {
   "cell_type": "code",
   "execution_count": 3,
   "metadata": {},
   "outputs": [],
   "source": [
    "title = []\n",
    "t = []\n",
    "par = ('(?<=<Title>)([\\s\\S]*?)(?=</Title>\\s*<Description>)') # regular expression for title\n",
    "for i in range(len(allTerms)):\n",
    "    t.append(re.findall(par, allTerms[i]))# run the pattern in each row and append to a list\n",
    "\n",
    "for a in range(len(t)):\n",
    "    title.append(t[a][0])# extract the title data from list of list"
   ]
  },
  {
   "cell_type": "code",
   "execution_count": 4,
   "metadata": {},
   "outputs": [],
   "source": [
    "descp = []# for storing descprition data\n",
    "de = []\n",
    "par = ('(?<=<Description>)([\\s\\S]*?)(?=</Description>)')\n",
    "for j in range(len(allTerms)):\n",
    "    de.append(re.findall(par, allTerms[j]))\n",
    "\n",
    "for description in range(len(de)):\n",
    "    descp.append(de[description][0])"
   ]
  },
  {
   "cell_type": "code",
   "execution_count": 5,
   "metadata": {},
   "outputs": [],
   "source": [
    "r = re.compile(r'<RelatedTerms>([\\s\\S]*?)</RelatedTerms>')\n",
    "result = r.findall(data)# extract the data in the RelatedTerms\n",
    "\n",
    "lrelated = []\n",
    "related = ('<Term>\\s*([\\s\\S]*?)\\s*</Term>') \n",
    "for i in range(len(result)):\n",
    "    lrelated.append(re.findall(related, result[i])) # clean the <Term> lable"
   ]
  },
  {
   "cell_type": "code",
   "execution_count": 6,
   "metadata": {},
   "outputs": [],
   "source": [
    "titlepar = re.compile(r'(?<=<Title>)([\\s\\S]*?)(?=</Title>)')\n",
    "relationshipPar = re.compile(r'(?<=<Relationship>)([\\s\\S]*?)(?=</Relationship>)')\n",
    "title_relation = []\n",
    "for allThing in lrelated:\n",
    "    end = []# for storing each dictionary\n",
    "    for item in allThing:\n",
    "        title_result = re.findall(titlepar, item)# implment pattern of Title\n",
    "        relationship_result = re.findall(relationshipPar, item)# implment pattern of Relationship\n",
    "        dic = {} # create a empty dictionary\n",
    "        if len(title_result) > 0:\n",
    "            dic = {'Title' : title_result[0], 'Relationship' : relationship_result[0]} # store each corrsponding title and relationship\n",
    "        end.append(dic)# save each dic as a list\n",
    "    title_relation.append(end) # store all dic list"
   ]
  },
  {
   "cell_type": "code",
   "execution_count": 19,
   "metadata": {},
   "outputs": [],
   "source": [
    "listall = []\n",
    "for line in range(len(title_relation)):#get the data from every row in every column\n",
    "    dic1 = {}\n",
    "    dic1 = {\"Description:\": descp[line], \"RelatedTerms:\": title_relation[line], \"Title:\" : title[line]}# store data a dictionary\n",
    "    listall.append(dic1)\n",
    "dic2 = {\"thesaurus\" : listall}"
   ]
  },
  {
   "cell_type": "code",
   "execution_count": 21,
   "metadata": {},
   "outputs": [],
   "source": [
    "sport = open('C:/Users/XiaoFan/Desktop/5196 wrangling/sport222.dat', \"w\", encoding= \"utf-8\")# write in a file\n",
    "sport.write(str(dic2))\n",
    "sport.close()"
   ]
  },
  {
   "cell_type": "code",
   "execution_count": null,
   "metadata": {},
   "outputs": [],
   "source": []
  }
 ],
 "metadata": {
  "kernelspec": {
   "display_name": "Python 3",
   "language": "python",
   "name": "python3"
  },
  "language_info": {
   "codemirror_mode": {
    "name": "ipython",
    "version": 3
   },
   "file_extension": ".py",
   "mimetype": "text/x-python",
   "name": "python",
   "nbconvert_exporter": "python",
   "pygments_lexer": "ipython3",
   "version": "3.7.1"
  }
 },
 "nbformat": 4,
 "nbformat_minor": 2
}
