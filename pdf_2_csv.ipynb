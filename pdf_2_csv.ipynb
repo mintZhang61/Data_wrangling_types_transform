{
 "cells": [
  {
   "cell_type": "code",
   "execution_count": null,
   "metadata": {},
   "outputs": [],
   "source": [
    "import pandas as pd\n",
    "import tabula\n",
    "df = tabula.read_pdf(\"health.pdf\", pandas_options={'error_bad_lines': False, 'header': None}, encoding='gbk', pages = 'all')\n",
    "df.dropna(inplace = True)# drop all NaN rows and column"
   ]
  },
  {
   "cell_type": "code",
   "execution_count": null,
   "metadata": {},
   "outputs": [],
   "source": [
    "df[0], df[1], df[1.1] = df[1].str.split(\" \", n=2).str \n",
    "df[2], df[2.1], df[2.2] = df[2].str.split(\" \", n=2).str \n",
    "df[6], df[6.1], df[6.2],df[6.3], df[6.4] = df[6].str.split(\" \", n=4).str #split the column 1,2,6 into single piece with blank space\n",
    "df[10.1] = df[10].str.extract('(\\d{2})', expand=True)\n",
    "df[10.2] = df[10].str.extract('(\\s\\d{2}?)',expand=True )# split column with regular expression\n",
    "df[11] = df[11].str.extract('(\\d{2})', expand = True)"
   ]
  },
  {
   "cell_type": "code",
   "execution_count": null,
   "metadata": {},
   "outputs": [],
   "source": [
    "df = df.reindex(columns=['Country Name', 0,1,1.1, 2,2.1,2.2,3,4,5,6,6.1,6.2,6.3,6.4,7,8,9,10.1,10.2,11,12,13,10])#reorder the column\n",
    "df.set_index(['Country Name'], inplace = True)# set \"Country name\" as index\n",
    "df.replace(\"–\", \" \", inplace = True)#replace all \"-\" with blank space"
   ]
  },
  {
   "cell_type": "code",
   "execution_count": null,
   "metadata": {},
   "outputs": [],
   "source": [
    "del df[10]#delete dupilicate column"
   ]
  },
  {
   "cell_type": "code",
   "execution_count": null,
   "metadata": {},
   "outputs": [],
   "source": [
    "df.columns = list(range(len(df.columns)))# set column name"
   ]
  },
  {
   "cell_type": "code",
   "execution_count": null,
   "metadata": {},
   "outputs": [],
   "source": [
    "df.to_csv('C:/Users/XiaoFan/Desktop/5196 wrangling/health.csv', encoding='utf_8_sig')"
   ]
  }
 ],
 "metadata": {
  "kernelspec": {
   "display_name": "Python 3",
   "language": "python",
   "name": "python3"
  },
  "language_info": {
   "codemirror_mode": {
    "name": "ipython",
    "version": 3
   },
   "file_extension": ".py",
   "mimetype": "text/x-python",
   "name": "python",
   "nbconvert_exporter": "python",
   "pygments_lexer": "ipython3",
   "version": "3.6.4"
  }
 },
 "nbformat": 4,
 "nbformat_minor": 2
}
